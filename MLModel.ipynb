{
 "cells": [
  {
   "cell_type": "code",
   "execution_count": null,
   "id": "0654f71f",
   "metadata": {},
   "outputs": [],
   "source": [
    "#import kagglehub\n",
    "#gunavenkatdoddi_eye_diseases_classification_path = kagglehub.dataset_download('gunavenkatdoddi/eye-diseases-classification')\n",
    "\n",
    "#print('Data source import complete.')"
   ]
  },
  {
   "cell_type": "code",
   "execution_count": null,
   "id": "38b98e24",
   "metadata": {},
   "outputs": [],
   "source": [
    "from img2vec_pytorch import Img2Vec\n",
    "import os\n",
    "from PIL import Image\n",
    "from sklearn.ensemble import RandomForestClassifier\n",
    "from sklearn.metrics import accuracy_score\n",
    "import pickle"
   ]
  },
  {
   "cell_type": "code",
   "execution_count": null,
   "id": "c5e97694",
   "metadata": {},
   "outputs": [],
   "source": [
    "img2Vec = Img2Vec()"
   ]
  },
  {
   "cell_type": "code",
   "execution_count": null,
   "id": "3ef5c955",
   "metadata": {},
   "outputs": [],
   "source": [
    "#img = Image.open(\"./dataset/Train/cataract/_0_4015166.jpg\")\n",
    "#print(img2Vec.get_vec(img))\n",
    "\n"
   ]
  },
  {
   "cell_type": "code",
   "execution_count": null,
   "id": "f8d3c972",
   "metadata": {},
   "outputs": [],
   "source": [
    "data_dir = \"./dataset\"\n",
    "train_dir = os.path.join(data_dir,\"Train\")  \n",
    "test_dir = os.path.join(data_dir,\"Test\")\n",
    "\n",
    "data = {}\n",
    "for i,dir_ in enumerate([train_dir,test_dir]):\n",
    "    print(dir_)\n",
    "    features = []\n",
    "    labels = []\n",
    "\n",
    "    for category in os.listdir(train_dir):\n",
    "        for img_name in os.listdir(os.path.join(dir_,category)):\n",
    "            img_path = os.path.join(dir_,category,img_name)\n",
    "            img = Image.open(img_path)\n",
    "            img_features = img2Vec.get_vec(img)\n",
    "\n",
    "            features.append(img_features)\n",
    "            labels.append(category)\n",
    "            \n",
    "    data[['train_data','test_data'][i]] = features\n",
    "    data[['train_label','test_label'][i]] = labels\n",
    "print(data)\n",
    "    \n"
   ]
  },
  {
   "cell_type": "code",
   "execution_count": null,
   "id": "97014ec0",
   "metadata": {},
   "outputs": [],
   "source": [
    "from sklearn.preprocessing import StandardScaler\n",
    "\n",
    "scaler = StandardScaler()\n",
    "data['train_data'] = scaler.fit_transform(data['train_data'])\n",
    "data['test_data'] = scaler.transform(data['test_data'])\n",
    "\n"
   ]
  },
  {
   "cell_type": "code",
   "execution_count": null,
   "id": "865d71e4",
   "metadata": {},
   "outputs": [],
   "source": [
    "from sklearn.metrics import accuracy_score, classification_report,confusion_matrix\n",
    "model = RandomForestClassifier()\n",
    "model.fit(data['train_data'],data['train_label'])\n",
    "y_pred = model.predict(data['test_data'])\n",
    "score = accuracy_score(y_pred ,data['test_label'])\n",
    "print(score)\n",
    "report = classification_report(data['test_label'], y_pred)\n",
    "print(\"Classification Report:\\n\", report)\n",
    "confusion = confusion_matrix(data['test_label'], y_pred)\n",
    "print(confusion)"
   ]
  },
  {
   "cell_type": "code",
   "execution_count": null,
   "id": "f1b76ee9",
   "metadata": {},
   "outputs": [],
   "source": [
    "with open('./eyesDiseaseModel.p','wb') as f:\n",
    "    pickle.dump(model,f)\n",
    "    f.close()"
   ]
  },
  {
   "cell_type": "code",
   "execution_count": null,
   "id": "689129c2",
   "metadata": {},
   "outputs": [],
   "source": [
    "from sklearn.svm import SVC\n",
    "\n",
    "model = SVC()\n",
    "model.fit(data['train_data'],data['train_label'])\n",
    "y_pred = model.predict(data['test_data'])\n",
    "score = accuracy_score(y_pred ,data['test_label'])\n",
    "print(score)"
   ]
  },
  {
   "cell_type": "code",
   "execution_count": null,
   "id": "5707306f",
   "metadata": {},
   "outputs": [],
   "source": [
    "from sklearn.preprocessing import LabelEncoder\n",
    "\n",
    "le = LabelEncoder()\n",
    "data['train_label'] = le.fit_transform(data['train_label'])\n",
    "data['test_label'] = le.transform(data['test_label'])\n"
   ]
  },
  {
   "cell_type": "code",
   "execution_count": null,
   "id": "cfc86074",
   "metadata": {},
   "outputs": [],
   "source": [
    "import numpy as np\n",
    "\n",
    "data['train_data'] = np.array(data['train_data'])\n",
    "data['train_label'] = np.array(data['train_label'])\n",
    "print(data['train_label'])\n"
   ]
  },
  {
   "cell_type": "code",
   "execution_count": null,
   "id": "b7355642",
   "metadata": {},
   "outputs": [],
   "source": [
    "from xgboost import XGBClassifier\n",
    "\n",
    "model = XGBClassifier(use_label_encoder=False, eval_metric='mlogloss', verbosity=0)\n",
    "model.fit(data['train_data'],data['train_label'])\n",
    "y_pred = model.predict(data['test_data'])\n",
    "score = accuracy_score(y_pred ,data['test_label'])\n",
    "print(score)\n"
   ]
  },
  {
   "cell_type": "code",
   "execution_count": null,
   "id": "696e9535",
   "metadata": {},
   "outputs": [],
   "source": [
    "from sklearn.linear_model import LogisticRegression\n",
    "from sklearn.svm import SVC\n"
   ]
  },
  {
   "cell_type": "code",
   "execution_count": null,
   "id": "c9fefcc8",
   "metadata": {},
   "outputs": [],
   "source": [
    "from sklearn.ensemble import VotingClassifier\n",
    "ensemble = VotingClassifier(estimators=[\n",
    "    ('rf', RandomForestClassifier()),\n",
    "    ('lr', LogisticRegression()),\n",
    "    ('svm', SVC(probability=True))\n",
    "], voting='soft')\n",
    "ensemble.fit(data['train_data'], data['train_label'])\n",
    "y_pred = ensemble.predict(data['test_data'])\n",
    "score = accuracy_score(y_pred ,data['test_label'])\n",
    "print(score)\n"
   ]
  },
  {
   "cell_type": "code",
   "execution_count": null,
   "id": "0309cf21",
   "metadata": {},
   "outputs": [],
   "source": [
    "# with open('./eyesDiseaseModel.p','wb') as f:\n",
    "#     pickle.dump(model,f)\n",
    "#     f.close()"
   ]
  }
 ],
 "metadata": {
  "kernelspec": {
   "display_name": "Python 3",
   "language": "python",
   "name": "python3"
  },
  "language_info": {
   "codemirror_mode": {
    "name": "ipython",
    "version": 3
   },
   "file_extension": ".py",
   "mimetype": "text/x-python",
   "name": "python",
   "nbconvert_exporter": "python",
   "pygments_lexer": "ipython3",
   "version": "3.11.9"
  }
 },
 "nbformat": 4,
 "nbformat_minor": 5
}
