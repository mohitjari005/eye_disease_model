{
 "cells": [
  {
   "cell_type": "code",
   "execution_count": 1,
   "id": "6476678c",
   "metadata": {},
   "outputs": [],
   "source": [
    "import warnings\n",
    "warnings.filterwarnings(\"ignore\")\n"
   ]
  },
  {
   "cell_type": "code",
   "execution_count": 2,
   "id": "1f6d5444",
   "metadata": {},
   "outputs": [],
   "source": [
    "\n",
    "import keras\n"
   ]
  },
  {
   "cell_type": "code",
   "execution_count": 27,
   "id": "48d6d835",
   "metadata": {},
   "outputs": [],
   "source": [
    "import tensorflow as tf\n",
    "import seaborn as sns\n",
    "import pandas as pd \n",
    "import matplotlib.pyplot as plt \n",
    "import tensorflow.keras as tf_keras # type: ignore\n",
    "from tensorflow.keras.utils import image_dataset_from_directory # type: ignore\n",
    "from tensorflow.keras.applications import EfficientNetV2S # type: ignore\n",
    "from tensorflow.keras.applications.efficientnet import preprocess_input  # type: ignore\n",
    "import os"
   ]
  },
  {
   "cell_type": "code",
   "execution_count": 34,
   "id": "0c275358",
   "metadata": {},
   "outputs": [
    {
     "name": "stdout",
     "output_type": "stream",
     "text": [
      "Found 4004 files belonging to 4 classes.\n",
      "Using 3204 files for training.\n",
      "Found 4004 files belonging to 4 classes.\n",
      "Using 800 files for validation.\n"
     ]
    }
   ],
   "source": [
    "train_dir = './dataset/Train'\n",
    "val_dir = './dataset/validate'\n",
    "\n",
    "train_ds = tf.keras.preprocessing.image_dataset_from_directory(\n",
    "    train_dir,\n",
    "    validation_split=0.2,\n",
    "    subset='training',\n",
    "    batch_size=32,\n",
    "    image_size=(224, 224),\n",
    "    seed=123,\n",
    "    shuffle=True,\n",
    ")\n",
    "\n",
    "\n",
    "val_ds = tf.keras.preprocessing.image_dataset_from_directory(\n",
    "    train_dir,\n",
    "    validation_split=0.2,\n",
    "    subset='validation',\n",
    "    batch_size=32,\n",
    "    image_size=(224, 224),\n",
    "    seed=42,\n",
    ")"
   ]
  },
  {
   "cell_type": "code",
   "execution_count": 35,
   "id": "c843aa09",
   "metadata": {},
   "outputs": [
    {
     "name": "stdout",
     "output_type": "stream",
     "text": [
      "./dataset/Train\n"
     ]
    }
   ],
   "source": [
    "image = preprocess_input(train_dir)\n",
    "print(image )\n",
    "\n"
   ]
  },
  {
   "cell_type": "code",
   "execution_count": 36,
   "id": "55972f9a",
   "metadata": {},
   "outputs": [
    {
     "name": "stdout",
     "output_type": "stream",
     "text": [
      "Class Names: ['cataract', 'diabetic_retinopathy', 'glaucoma', 'normal']\n",
      "Number of Classes: 4\n"
     ]
    }
   ],
   "source": [
    "class_names = sorted(os.listdir(train_dir))\n",
    "\n",
    "print(\"Class Names:\", class_names)\n",
    "num_classes = len(class_names)\n",
    "print(\"Number of Classes:\", num_classes)"
   ]
  },
  {
   "cell_type": "code",
   "execution_count": 37,
   "id": "586ec46a",
   "metadata": {},
   "outputs": [],
   "source": [
    "AUTOTUNE = tf.data.experimental.AUTOTUNE\n",
    "\n",
    "train_ds = train_ds.cache().shuffle(1000).prefetch(buffer_size=AUTOTUNE)\n",
    "val_ds = val_ds.cache().prefetch(buffer_size=AUTOTUNE)"
   ]
  },
  {
   "cell_type": "code",
   "execution_count": 38,
   "id": "1048b0c8",
   "metadata": {},
   "outputs": [],
   "source": [
    "data_augmentation = tf.keras.Sequential([\n",
    "    tf.keras.layers.RandomFlip('horizontal'),\n",
    "    tf.keras.layers.RandomRotation(0.5)\n",
    "])"
   ]
  },
  {
   "cell_type": "code",
   "execution_count": 39,
   "id": "9604e960",
   "metadata": {},
   "outputs": [],
   "source": [
    "# train_ds"
   ]
  },
  {
   "cell_type": "code",
   "execution_count": 40,
   "id": "576a11a7",
   "metadata": {},
   "outputs": [],
   "source": [
    "# Input_shape = [224,224,3]"
   ]
  },
  {
   "cell_type": "code",
   "execution_count": null,
   "id": "7c636a59",
   "metadata": {},
   "outputs": [],
   "source": [
    "base_model = tf.keras.applications.EfficientNetB0(\n",
    "    include_top=False,\n",
    "    weights='imagenet',\n",
    "    input_shape=(224, 224, 3)\n",
    ")\n",
    "base_model.trainable = False\n",
    "\n",
    "# base_model = tf.keras.applications.EfficientNetV2S(\n",
    "#     include_top=False,\n",
    "#     weights='imagenet',\n",
    "#     input_shape=(256, 256, 3)\n",
    "# )"
   ]
  },
  {
   "cell_type": "code",
   "execution_count": 46,
   "id": "5d1c4902",
   "metadata": {},
   "outputs": [],
   "source": [
    "model = tf.keras.Sequential([\n",
    "    base_model,\n",
    "    tf.keras.layers.GlobalAveragePooling2D(),\n",
    "    tf.keras.layers.Dense(128, activation='relu'),\n",
    "    tf.keras.layers.Dropout(0.5),\n",
    "    tf.keras.layers.Dense(4, activation='softmax')  # 4 classes\n",
    "])"
   ]
  },
  {
   "cell_type": "code",
   "execution_count": null,
   "id": "a31f2c58",
   "metadata": {},
   "outputs": [
    {
     "name": "stdout",
     "output_type": "stream",
     "text": [
      "Epoch 1/10\n",
      "101/101 [==============================] - 126s 1s/step - loss: 0.6888 - accuracy: 0.7322 - val_loss: 0.4124 - val_accuracy: 0.8637\n",
      "Epoch 2/10\n",
      "101/101 [==============================] - 114s 1s/step - loss: 0.4921 - accuracy: 0.8187 - val_loss: 0.3812 - val_accuracy: 0.8662\n",
      "Epoch 3/10\n",
      "101/101 [==============================] - 120s 1s/step - loss: 0.4358 - accuracy: 0.8365 - val_loss: 0.3367 - val_accuracy: 0.8763\n",
      "Epoch 4/10\n",
      "101/101 [==============================] - 128s 1s/step - loss: 0.3962 - accuracy: 0.8555 - val_loss: 0.2976 - val_accuracy: 0.8888\n",
      "Epoch 5/10\n",
      "101/101 [==============================] - 128s 1s/step - loss: 0.3829 - accuracy: 0.8546 - val_loss: 0.3012 - val_accuracy: 0.8900\n",
      "Epoch 6/10\n",
      "101/101 [==============================] - 128s 1s/step - loss: 0.3684 - accuracy: 0.8614 - val_loss: 0.2669 - val_accuracy: 0.8963\n",
      "Epoch 7/10\n",
      "101/101 [==============================] - 129s 1s/step - loss: 0.3523 - accuracy: 0.8689 - val_loss: 0.2788 - val_accuracy: 0.8938\n",
      "Epoch 8/10\n",
      "101/101 [==============================] - 127s 1s/step - loss: 0.3264 - accuracy: 0.8792 - val_loss: 0.2491 - val_accuracy: 0.9112\n",
      "Epoch 9/10\n",
      "101/101 [==============================] - 128s 1s/step - loss: 0.3282 - accuracy: 0.8689 - val_loss: 0.2368 - val_accuracy: 0.9137\n",
      "Epoch 10/10\n",
      "101/101 [==============================] - 127s 1s/step - loss: 0.3027 - accuracy: 0.8820 - val_loss: 0.2462 - val_accuracy: 0.9087\n"
     ]
    }
   ],
   "source": [
    "model.compile(\n",
    "    optimizer='adam',\n",
    "    loss='SparseCategoricalCrossentropy',\n",
    "    metrics=['accuracy'])\n",
    "history = model.fit(train_ds, validation_data=val_ds, epochs=10)\n"
   ]
  },
  {
   "cell_type": "code",
   "execution_count": 48,
   "id": "41508894",
   "metadata": {},
   "outputs": [],
   "source": [
    "# preprocess_input = tf.keras.applications.mobilenet_v2.preprocess_input\n",
    "\n",
    "# rescale = tf.keras.layers.Rescaling(1./127.5, offset=-1)\n",
    "\n",
    "# base_model.trainable = False"
   ]
  },
  {
   "cell_type": "code",
   "execution_count": 49,
   "id": "cbd54567",
   "metadata": {},
   "outputs": [],
   "source": [
    "# global_average_layer = tf.keras.layers.GlobalAveragePooling2D()\n",
    "# prediction_layer = tf.keras.layers.Dense(num_classes)"
   ]
  },
  {
   "cell_type": "code",
   "execution_count": 50,
   "id": "bed82fda",
   "metadata": {},
   "outputs": [],
   "source": [
    "# inputs = tf.keras.Input(shape=(256, 256, 3))\n",
    "# x = data_augmentation(inputs)\n",
    "# x = preprocess_input(x)\n",
    "# x = base_model(x, training=False)\n",
    "# x = global_average_layer(x)\n",
    "# x = tf.keras.layers.Dropout(0.2)(x)\n",
    "# outputs = prediction_layer(x)\n",
    "\n",
    "# model = tf.keras.Model(inputs=inputs, outputs=outputs)"
   ]
  },
  {
   "cell_type": "code",
   "execution_count": 51,
   "id": "98876494",
   "metadata": {},
   "outputs": [],
   "source": [
    "# optimizer = tf.keras.optimizers.Adam(learning_rate=0.5)\n",
    "\n",
    "# model.compile(\n",
    "#     optimizer=optimizer,\n",
    "#     loss=tf.keras.losses.SparseCategoricalCrossentropy(from_logits=True),\n",
    "#     metrics=['accuracy']\n",
    "# )"
   ]
  },
  {
   "cell_type": "code",
   "execution_count": 57,
   "id": "d5cad1d8",
   "metadata": {},
   "outputs": [
    {
     "name": "stdout",
     "output_type": "stream",
     "text": [
      "Model: \"sequential_5\"\n",
      "_________________________________________________________________\n",
      " Layer (type)                Output Shape              Param #   \n",
      "=================================================================\n",
      " efficientnetb0 (Functional  (None, 7, 7, 1280)        4049571   \n",
      " )                                                               \n",
      "                                                                 \n",
      " global_average_pooling2d_4  (None, 1280)              0         \n",
      "  (GlobalAveragePooling2D)                                       \n",
      "                                                                 \n",
      " dense_7 (Dense)             (None, 128)               163968    \n",
      "                                                                 \n",
      " dropout_4 (Dropout)         (None, 128)               0         \n",
      "                                                                 \n",
      " dense_8 (Dense)             (None, 4)                 516       \n",
      "                                                                 \n",
      "=================================================================\n",
      "Total params: 4214055 (16.08 MB)\n",
      "Trainable params: 164484 (642.52 KB)\n",
      "Non-trainable params: 4049571 (15.45 MB)\n",
      "_________________________________________________________________\n"
     ]
    }
   ],
   "source": [
    "model.summary()"
   ]
  },
  {
   "cell_type": "code",
   "execution_count": 62,
   "id": "d8675fd3",
   "metadata": {},
   "outputs": [
    {
     "data": {
      "text/plain": [
       "{'loss': [0.6888003945350647,\n",
       "  0.4920504093170166,\n",
       "  0.4357753098011017,\n",
       "  0.39622071385383606,\n",
       "  0.38292571902275085,\n",
       "  0.36843690276145935,\n",
       "  0.3522948920726776,\n",
       "  0.3264276683330536,\n",
       "  0.3282012641429901,\n",
       "  0.302655965089798],\n",
       " 'accuracy': [0.7322097420692444,\n",
       "  0.8186641931533813,\n",
       "  0.836454451084137,\n",
       "  0.8554931282997131,\n",
       "  0.8545567989349365,\n",
       "  0.8614231944084167,\n",
       "  0.8689138293266296,\n",
       "  0.8792135119438171,\n",
       "  0.8689138293266296,\n",
       "  0.882022500038147],\n",
       " 'val_loss': [0.412433922290802,\n",
       "  0.38123610615730286,\n",
       "  0.3366650640964508,\n",
       "  0.2976207137107849,\n",
       "  0.30117568373680115,\n",
       "  0.26686975359916687,\n",
       "  0.2788033187389374,\n",
       "  0.24906565248966217,\n",
       "  0.23675300180912018,\n",
       "  0.24615328013896942],\n",
       " 'val_accuracy': [0.8637499809265137,\n",
       "  0.8662499785423279,\n",
       "  0.8762500286102295,\n",
       "  0.8887500166893005,\n",
       "  0.8899999856948853,\n",
       "  0.8962500095367432,\n",
       "  0.893750011920929,\n",
       "  0.9112499952316284,\n",
       "  0.9137499928474426,\n",
       "  0.9087499976158142]}"
      ]
     },
     "execution_count": 62,
     "metadata": {},
     "output_type": "execute_result"
    }
   ],
   "source": [
    "history.history"
   ]
  },
  {
   "cell_type": "code",
   "execution_count": 60,
   "id": "c84d8feb",
   "metadata": {},
   "outputs": [
    {
     "data": {
      "image/png": "[encoded data removed]",
      "text/plain": [
       "<Figure size 640x480 with 1 Axes>"
      ]
     },
     "metadata": {},
     "output_type": "display_data"
    }
   ],
   "source": [
    "plt.plot(history.history['accuracy'], label='Training Accuracy', marker='o')\n",
    "plt.plot(history.history['val_accuracy'], label='Validation Accuracy',marker='o')\n",
    "plt.xlabel('Epoch')\n",
    "plt.ylabel('Accuracy')\n",
    "plt.title('Training and Validation Accuracy')\n",
    "plt.legend()\n",
    "plt.show()"
   ]
  },
  {
   "cell_type": "code",
   "execution_count": 53,
   "id": "d08f4d26",
   "metadata": {},
   "outputs": [],
   "source": [
    "# from tensorflow.keras import  callbacks"
   ]
  },
  {
   "cell_type": "code",
   "execution_count": 54,
   "id": "2db8c6f7",
   "metadata": {},
   "outputs": [],
   "source": [
    "# early_stopping = callbacks.EarlyStopping(patience=3)\n",
    "\n",
    "# Training = model.fit(\n",
    "#     train_ds,\n",
    "#     epochs=15,\n",
    "#     validation_data=val_ds,\n",
    "#     callbacks=[early_stopping] \n",
    "# )"
   ]
  },
  {
   "cell_type": "code",
   "execution_count": 63,
   "id": "bec76ea7",
   "metadata": {},
   "outputs": [],
   "source": [
    "model.save(\"./Trained_model.h5\")\n",
    "model.save(\"./Trained_model.keras\")"
   ]
  },
  {
   "cell_type": "code",
   "execution_count": 64,
   "id": "ea7843d8",
   "metadata": {},
   "outputs": [],
   "source": [
    "import pickle\n",
    "with open(\"Training.pkl\",\"wb\")as f:\n",
    "    pickle.dump(Training.history,f)"
   ]
  },
  {
   "cell_type": "code",
   "execution_count": 65,
   "id": "80f7a4f8",
   "metadata": {},
   "outputs": [
    {
     "name": "stdout",
     "output_type": "stream",
     "text": [
      "{'loss': [9.571149826049805, 8.510287284851074, 9.771803855895996, 9.241914749145508], 'accuracy': [0.5062422156333923, 0.5137328505516052, 0.49968788027763367, 0.5093632936477661], 'val_loss': [8.99890422821045, 9.10329532623291, 18.03398895263672, 16.449159622192383], 'val_accuracy': [0.5024999976158142, 0.4637500047683716, 0.49000000953674316, 0.48249998688697815]}\n"
     ]
    }
   ],
   "source": [
    "import pickle\n",
    "with open(\"Training.pkl\",\"rb\")as f:\n",
    "    load_history = pickle.load(f)\n",
    "print(load_history)"
   ]
  },
  {
   "cell_type": "code",
   "execution_count": null,
   "metadata": {},
   "outputs": [],
   "source": [
    "model = tf.keras.models.load_model(\"Trained_model.h5\")"
   ]
  }
 ],
 "metadata": {
  "kernelspec": {
   "display_name": "Python 3",
   "language": "python",
   "name": "python3"
  },
  "language_info": {
   "codemirror_mode": {
    "name": "ipython",
    "version": 3
   },
   "file_extension": ".py",
   "mimetype": "text/x-python",
   "name": "python",
   "nbconvert_exporter": "python",
   "pygments_lexer": "ipython3",
   "version": "3.11.9"
  }
 },
 "nbformat": 4,
 "nbformat_minor": 5
}
